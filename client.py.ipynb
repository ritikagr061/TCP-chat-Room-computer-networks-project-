{
 "cells": [
  {
   "cell_type": "code",
   "execution_count": null,
   "id": "religious-facial",
   "metadata": {},
   "outputs": [],
   "source": [
    "import time, socket, sys\n",
    "\n",
    "socket_server = socket.socket()\n",
    "server_host = socket.gethostname()\n",
    "ip = socket.gethostbyname(server_host)\n",
    "sport = 8080\n",
    " \n",
    "print('This is your IP address: ',ip)\n",
    "server_host = input('Enter Friends IP address:')\n",
    "name = input('Enter your name: ')\n",
    " \n",
    " \n",
    "socket_server.connect((server_host, sport))\n",
    " \n",
    "socket_server.send(name.encode())\n",
    "server_name = socket_server.recv(1024)\n",
    "server_name = server_name.decode()\n",
    " \n",
    "print(server_name,' has joined...')\n",
    "while True:\n",
    "    message = (socket_server.recv(1024)).decode()\n",
    "    print(server_name, \":\", message)\n",
    "    message = input(\"Me : \")\n",
    "    socket_server.send(message.encode())  "
   ]
  },
  {
   "cell_type": "code",
   "execution_count": null,
   "id": "planned-bookmark",
   "metadata": {},
   "outputs": [],
   "source": []
  }
 ],
 "metadata": {
  "kernelspec": {
   "display_name": "Python 3",
   "language": "python",
   "name": "python3"
  },
  "language_info": {
   "codemirror_mode": {
    "name": "ipython",
    "version": 3
   },
   "file_extension": ".py",
   "mimetype": "text/x-python",
   "name": "python",
   "nbconvert_exporter": "python",
   "pygments_lexer": "ipython3",
   "version": "3.9.0"
  }
 },
 "nbformat": 4,
 "nbformat_minor": 5
}
