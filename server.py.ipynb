{
 "cells": [
  {
   "cell_type": "code",
   "execution_count": null,
   "id": "considerable-prototype",
   "metadata": {},
   "outputs": [],
   "source": [
    "import time, socket, sys\n",
    "\n",
    "new_socket = socket.socket()\n",
    "host_name = socket.gethostname()\n",
    "s_ip = socket.gethostbyname(host_name)\n",
    "\n",
    "port = 8080\n",
    "\n",
    "new_socket.bind((host_name, port))\n",
    "print( \"Binding successful!\")\n",
    "print(\"This is your IP: \", s_ip)\n",
    " \n",
    "name = input('Enter name: ')\n",
    " \n",
    "new_socket.listen(1) \n",
    " \n",
    " \n",
    "conn, add = new_socket.accept()  # conn and ip addr\n",
    " \n",
    "print(\"Received connection from \", add[0])\n",
    "print('Connection Established. Connected From: ',add[0])\n",
    "  \n",
    "client = (conn.recv(1024)).decode()  #name of client\n",
    "print(client + ' has connected.')\n",
    " \n",
    "conn.send(name.encode())\n",
    "while True:\n",
    "    message = input('Me : ')\n",
    "    conn.send(message.encode())\n",
    "    message = conn.recv(1024)\n",
    "    message = message.decode()\n",
    "    print(client, ':', message)"
   ]
  },
  {
   "cell_type": "code",
   "execution_count": null,
   "id": "intimate-burst",
   "metadata": {},
   "outputs": [],
   "source": []
  }
 ],
 "metadata": {
  "kernelspec": {
   "display_name": "Python 3",
   "language": "python",
   "name": "python3"
  },
  "language_info": {
   "codemirror_mode": {
    "name": "ipython",
    "version": 3
   },
   "file_extension": ".py",
   "mimetype": "text/x-python",
   "name": "python",
   "nbconvert_exporter": "python",
   "pygments_lexer": "ipython3",
   "version": "3.9.0"
  }
 },
 "nbformat": 4,
 "nbformat_minor": 5
}
